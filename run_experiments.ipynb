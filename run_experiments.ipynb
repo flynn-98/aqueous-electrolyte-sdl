{
 "cells": [
  {
   "cell_type": "markdown",
   "id": "dcf6a240",
   "metadata": {},
   "source": [
    "# Electrolyte Optimiser (PumpBot V2)\n",
    "\n",
    "Update experiment details in [yaml file](config/hardware_config.yaml). Then run the below code block **once per session**."
   ]
  },
  {
   "cell_type": "code",
   "execution_count": 1,
   "id": "2287e796",
   "metadata": {},
   "outputs": [
    {
     "name": "stderr",
     "output_type": "stream",
     "text": [
      "INFO:root:Configuring pump controller serial port..\n",
      "INFO:root:Attempting to open pump controller serial port..\n",
      "INFO:root:Simulated connection to pump controller established.\n",
      "INFO:root:Simulated connection to pump controller established.\n",
      "INFO:root:Temperature regulator PID mode successfully configured.\n",
      "INFO:root:Temperature regulator dead band settings successfully configured.\n",
      "INFO:root:Temperature regulator voltage alarm settings successfully configured.\n",
      "INFO:root:Temperature regulator current alarm settings successfully configured.\n",
      "INFO:root:Temperature Sensor #1 successfully configured.\n",
      "INFO:root:Temperature sensor #2 successfully configured.\n",
      "INFO:root:Successfully updated steinhart coefficients for temperature sensor #1.\n",
      "INFO:root:Successfully updated steinhart coefficients for temperature sensor #2.\n",
      "INFO:root:Temperature regulator fan settings successfully configured.\n",
      "INFO:root:Resetting AC and DC dataframes..\n"
     ]
    }
   ],
   "source": [
    "%load_ext autoreload\n",
    "%autoreload 2\n",
    "\n",
    "from src.scheduler import scheduler\n",
    "config_path = \"config/hardware_config.yaml\"\n",
    "\n",
    "device = scheduler(config_path)"
   ]
  },
  {
   "cell_type": "markdown",
   "id": "5f62387d",
   "metadata": {},
   "source": [
    "## Useful functions..\n",
    "\n",
    "Hover over functions for more information."
   ]
  },
  {
   "cell_type": "code",
   "execution_count": null,
   "id": "9536a16b",
   "metadata": {},
   "outputs": [],
   "source": [
    "device.ensure_primed()"
   ]
  },
  {
   "cell_type": "code",
   "execution_count": null,
   "id": "48399cba",
   "metadata": {},
   "outputs": [],
   "source": [
    "device.deprime_lines()"
   ]
  },
  {
   "cell_type": "code",
   "execution_count": null,
   "id": "a39e67e2",
   "metadata": {},
   "outputs": [],
   "source": [
    "device.system_flush()"
   ]
  },
  {
   "cell_type": "markdown",
   "id": "2455664c",
   "metadata": {},
   "source": [
    "## Run the next code block to perform a single experiment."
   ]
  },
  {
   "cell_type": "code",
   "execution_count": 2,
   "id": "36cde953",
   "metadata": {},
   "outputs": [
    {
     "name": "stderr",
     "output_type": "stream",
     "text": [
      "INFO:root:Temperature regulator set to cooling mode.\n",
      "INFO:root:Peltier target temperature set to 0.0C.\n",
      "INFO:src.scheduler:Priming lines first..\n",
      "INFO:src.scheduler:Dosing Milli-Q: 0.200 ml on A[1]\n",
      "INFO:src.scheduler:Primed Milli-Q with 0.2ml.\n",
      "INFO:src.scheduler:Transferring 2.4ml to cell..\n",
      "INFO:src.scheduler:Transferring 2.4ml to waste #1..\n",
      "INFO:src.scheduler:Dosing Ethanol: 0.200 ml on A[2]\n",
      "INFO:src.scheduler:Primed Ethanol with 0.2ml.\n",
      "INFO:src.scheduler:Transferring 2.4ml to cell..\n",
      "INFO:src.scheduler:Transferring 2.4ml to waste #1..\n",
      "INFO:src.scheduler:Dosing Chem3: 0.200 ml on A[3]\n",
      "INFO:src.scheduler:Primed Chem3 with 0.2ml.\n",
      "INFO:src.scheduler:Transferring 2.4ml to cell..\n",
      "INFO:src.scheduler:Transferring 2.4ml to waste #1..\n",
      "INFO:src.scheduler:Dosing Chem4: 0.200 ml on A[4]\n",
      "INFO:src.scheduler:Primed Chem4 with 0.2ml.\n",
      "INFO:src.scheduler:Transferring 2.4ml to cell..\n",
      "INFO:src.scheduler:Transferring 2.4ml to waste #1..\n",
      "INFO:src.scheduler:Dosing Chem5: 2.000 ml on B[1]\n",
      "INFO:src.scheduler:Primed Chem5 with 2.0ml.\n",
      "INFO:src.scheduler:Transferring 2.4ml to cell..\n",
      "INFO:src.scheduler:Transferring 2.4ml to waste #1..\n",
      "INFO:src.scheduler:Dosing Chem6: 2.000 ml on B[2]\n",
      "INFO:src.scheduler:Primed Chem6 with 2.0ml.\n",
      "INFO:src.scheduler:Transferring 2.4ml to cell..\n",
      "INFO:src.scheduler:Transferring 2.4ml to waste #1..\n",
      "INFO:src.scheduler:Dosing Chem7: 2.000 ml on B[3]\n",
      "INFO:src.scheduler:Primed Chem7 with 2.0ml.\n",
      "INFO:src.scheduler:Transferring 2.4ml to cell..\n",
      "INFO:src.scheduler:Transferring 2.4ml to waste #1..\n",
      "INFO:src.scheduler:Dosing Chem8: 2.000 ml on B[4]\n",
      "INFO:src.scheduler:Primed Chem8 with 2.0ml.\n",
      "INFO:src.scheduler:Transferring 2.4ml to cell..\n",
      "INFO:src.scheduler:Transferring 2.4ml to waste #1..\n",
      "INFO:src.scheduler:Mixing all chemicals simulateously..\n",
      "INFO:src.scheduler:Controller A: [0.8, 0.1, 0.2, 1.0]\n",
      "INFO:src.scheduler:Controller B: [0.0, 0.0, 0.5, 0.0]\n",
      "INFO:src.scheduler:Transferring 2.4ml to cell..\n",
      "INFO:src.scheduler:Waiting until temperature = 0.0 C\n",
      "INFO:src.scheduler:Waiting until temperature = 10.0 C\n",
      "INFO:src.scheduler:Waiting until temperature = 20.0 C\n",
      "INFO:src.scheduler:Waiting until temperature = 40.0 C\n",
      "INFO:src.scheduler:Transferring 2.4ml to waste #1..\n",
      "INFO:src.scheduler:[TIMER] Experiment completed in 1.74mins.\n"
     ]
    }
   ],
   "source": [
    "device.run_basic_experiment(deprime=False)"
   ]
  },
  {
   "cell_type": "markdown",
   "id": "3293a63f",
   "metadata": {},
   "source": [
    "## Atinary Campaign"
   ]
  },
  {
   "cell_type": "code",
   "execution_count": 1,
   "id": "2638b754",
   "metadata": {},
   "outputs": [],
   "source": [
    "from sdlabs_wrapper.wrapper import initialize_optimization\n",
    "import json\n",
    "\n",
    "optimiser_config = \"config/conductivity_optimiser.json\""
   ]
  },
  {
   "cell_type": "code",
   "execution_count": null,
   "id": "a31d224e",
   "metadata": {},
   "outputs": [],
   "source": [
    "# load config as dict\n",
    "with open(optimiser_config, \"rb\") as f:\n",
    "    config_dict = json.load(f)\n",
    "\n",
    "wrapper = initialize_optimization( # API key given as env variable SDLABS_API_KEY\n",
    "    spec_file_content=config_dict,\n",
    "    inherit_data=False, \n",
    "    always_restart=False, # Change to true to restart\n",
    ")\n",
    "\n",
    "for iteration in range(wrapper.config.budget):\n",
    "\n",
    "    print(f\"Iteration {iteration+1}: Fetching new suggestions..\")\n",
    "\n",
    "    # Atinary will return suggestions until measurements received - useful in case of resume\n",
    "    suggestions = wrapper.get_new_suggestions(max_retries=10, sleep_time_s=30)\n",
    "\n",
    "    if not suggestions:\n",
    "        raise RuntimeError(f\"No suggestions received on iteration {iteration+1}.\")\n",
    "    \n",
    "    for suggestion in suggestions:\n",
    "            print(f\"New suggestion received for iteration {iteration+1}: {suggestion.param_values}.\")\n",
    "\n",
    "            # Update yaml with suggestions\n",
    "            device.update_yaml_volumes(suggestion.param_values)\n",
    "            \n",
    "            # Calculate cost of new mixture\n",
    "            cost = device.calculate_cost()\n",
    "\n",
    "            # Synthesise and analyse at target_temp\n",
    "            device.run_basic_experiment()\n",
    "\n",
    "            # Build table of measurements to send e.g. [conductivity, cost]\n",
    "            results = [1.0, 0.0]\n",
    "\n",
    "            for i, obj in enumerate(wrapper.config.objectives):\n",
    "                # e.g. {'conductivity': 0.06925926902246848, 'cost': 0.9500057653400364}\n",
    "                suggestion.measurements[obj.name] = results[i] # Send data here\n",
    "\n",
    "            wrapper.send_measurements(suggestions)\n",
    "            print(f\"Iteration {iteration+1} measurements sent.\")\n",
    "\n",
    "            # Clean test cell whilst optimiser calculates next suggestions\n",
    "            device.system_flush()"
   ]
  }
 ],
 "metadata": {
  "kernelspec": {
   "display_name": ".venv",
   "language": "python",
   "name": "python3"
  },
  "language_info": {
   "codemirror_mode": {
    "name": "ipython",
    "version": 3
   },
   "file_extension": ".py",
   "mimetype": "text/x-python",
   "name": "python",
   "nbconvert_exporter": "python",
   "pygments_lexer": "ipython3",
   "version": "3.10.0"
  }
 },
 "nbformat": 4,
 "nbformat_minor": 5
}
