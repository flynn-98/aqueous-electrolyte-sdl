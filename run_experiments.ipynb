{
 "cells": [
  {
   "cell_type": "markdown",
   "id": "dcf6a240",
   "metadata": {},
   "source": [
    "# Electrolyte Optimiser (PumpBot V2)\n",
    "\n",
    "Update experiment details in [yaml file](config/hardware_config.yaml). Then run the below code block **once per session**."
   ]
  },
  {
   "cell_type": "code",
   "execution_count": 1,
   "id": "2287e796",
   "metadata": {},
   "outputs": [
    {
     "name": "stderr",
     "output_type": "stream",
     "text": [
      "INFO:root:Configuring pump controller serial port..\n",
      "INFO:root:Attempting to open pump controller serial port..\n",
      "INFO:root:Simulated connection to pump controller established.\n",
      "INFO:root:Simulated connection to pump controller established.\n",
      "INFO:root:Temperature regulator PID mode successfully configured.\n",
      "INFO:root:Temperature regulator dead band settings successfully configured.\n",
      "INFO:root:Temperature regulator voltage alarm settings successfully configured.\n",
      "INFO:root:Temperature regulator current alarm settings successfully configured.\n",
      "INFO:root:Temperature Sensor #1 successfully configured.\n",
      "INFO:root:Temperature sensor #2 successfully configured.\n",
      "INFO:root:Successfully updated steinhart coefficients for temperature sensor #1.\n",
      "INFO:root:Successfully updated steinhart coefficients for temperature sensor #2.\n",
      "INFO:root:Temperature regulator fan settings successfully configured.\n",
      "INFO:root:Resetting AC and DC dataframes..\n"
     ]
    }
   ],
   "source": [
    "%load_ext autoreload\n",
    "%autoreload 2\n",
    "\n",
    "from src.scheduler import scheduler\n",
    "config_path = \"config/hardware_config.yaml\"\n",
    "\n",
    "device = scheduler(config_path)"
   ]
  },
  {
   "cell_type": "markdown",
   "id": "2455664c",
   "metadata": {},
   "source": [
    "## Run the next code block to a single perform experiment."
   ]
  },
  {
   "cell_type": "code",
   "execution_count": 2,
   "id": "36cde953",
   "metadata": {},
   "outputs": [
    {
     "name": "stderr",
     "output_type": "stream",
     "text": [
      "INFO:root:Temperature regulator set to cooling mode.\n",
      "INFO:root:Peltier target temperature set to 0.0C.\n",
      "INFO:src.scheduler:Priming lines first..\n",
      "INFO:src.scheduler:[DEBUG]: A, 1\n",
      "INFO:src.scheduler:Dosing Chem1: 2.000 ml on A[1]\n",
      "INFO:src.scheduler:Primed Chem1 with 2.0ml.\n",
      "INFO:src.scheduler:Transferring 2.4 to cell..\n",
      "INFO:src.scheduler:Transferring 2.4 to waste #1..\n",
      "INFO:src.scheduler:[DEBUG]: A, 2\n",
      "INFO:src.scheduler:Dosing Chem2: 2.000 ml on A[2]\n",
      "INFO:src.scheduler:Primed Chem2 with 2.0ml.\n",
      "INFO:src.scheduler:Transferring 2.4 to cell..\n",
      "INFO:src.scheduler:Transferring 2.4 to waste #1..\n",
      "INFO:src.scheduler:[DEBUG]: A, 3\n",
      "INFO:src.scheduler:Dosing Chem3: 2.000 ml on A[3]\n",
      "INFO:src.scheduler:Primed Chem3 with 2.0ml.\n",
      "INFO:src.scheduler:Transferring 2.4 to cell..\n",
      "INFO:src.scheduler:Transferring 2.4 to waste #1..\n",
      "INFO:src.scheduler:[DEBUG]: A, 4\n",
      "INFO:src.scheduler:Dosing Chem4: 2.000 ml on A[4]\n",
      "INFO:src.scheduler:Primed Chem4 with 2.0ml.\n",
      "INFO:src.scheduler:Transferring 2.4 to cell..\n",
      "INFO:src.scheduler:Transferring 2.4 to waste #1..\n",
      "INFO:src.scheduler:[DEBUG]: B, 1\n",
      "INFO:src.scheduler:Dosing Chem5: 2.000 ml on B[1]\n",
      "INFO:src.scheduler:Primed Chem5 with 2.0ml.\n",
      "INFO:src.scheduler:Transferring 2.4 to cell..\n",
      "INFO:src.scheduler:Transferring 2.4 to waste #1..\n",
      "INFO:src.scheduler:[DEBUG]: B, 2\n",
      "INFO:src.scheduler:Dosing Chem6: 2.000 ml on B[2]\n",
      "INFO:src.scheduler:Primed Chem6 with 2.0ml.\n",
      "INFO:src.scheduler:Transferring 2.4 to cell..\n",
      "INFO:src.scheduler:Transferring 2.4 to waste #1..\n",
      "INFO:src.scheduler:[DEBUG]: B, 3\n",
      "INFO:src.scheduler:Dosing Chem7: 2.000 ml on B[3]\n",
      "INFO:src.scheduler:Primed Chem7 with 2.0ml.\n",
      "INFO:src.scheduler:Transferring 2.4 to cell..\n",
      "INFO:src.scheduler:Transferring 2.4 to waste #1..\n",
      "INFO:src.scheduler:[DEBUG]: B, 4\n",
      "INFO:src.scheduler:Dosing Chem8: 2.000 ml on B[4]\n",
      "INFO:src.scheduler:Primed Chem8 with 2.0ml.\n",
      "INFO:src.scheduler:Transferring 2.4 to cell..\n",
      "INFO:src.scheduler:Transferring 2.4 to waste #1..\n",
      "INFO:src.scheduler:Mixing all chemicals simulateously..\n",
      "INFO:src.scheduler:Controller A: [0.8, 0.1, 0.2, 1.0]\n",
      "INFO:src.scheduler:Controller B: [0.0, 0.0, 0.5, 0.0]\n",
      "INFO:src.scheduler:Transferring 2.4 to cell..\n",
      "INFO:src.scheduler:Waiting until temperature = 0.0 C\n",
      "INFO:src.scheduler:Waiting until temperature = 10.0 C\n",
      "INFO:src.scheduler:Waiting until temperature = 20.0 C\n",
      "INFO:src.scheduler:Waiting until temperature = 40.0 C\n",
      "INFO:src.scheduler:Transferring 2.4 to waste #1..\n",
      "INFO:src.scheduler:[DEBUG]: A, 1\n",
      "INFO:src.scheduler:Dosing Chem1: -2.000 ml on A[1]\n",
      "INFO:src.scheduler:Deprimed Chem1 with -2.0ml.\n",
      "INFO:src.scheduler:[DEBUG]: A, 2\n",
      "INFO:src.scheduler:Dosing Chem2: -2.000 ml on A[2]\n",
      "INFO:src.scheduler:Deprimed Chem2 with -2.0ml.\n",
      "INFO:src.scheduler:[DEBUG]: A, 3\n",
      "INFO:src.scheduler:Dosing Chem3: -2.000 ml on A[3]\n",
      "INFO:src.scheduler:Deprimed Chem3 with -2.0ml.\n",
      "INFO:src.scheduler:[DEBUG]: A, 4\n",
      "INFO:src.scheduler:Dosing Chem4: -2.000 ml on A[4]\n",
      "INFO:src.scheduler:Deprimed Chem4 with -2.0ml.\n",
      "INFO:src.scheduler:[DEBUG]: B, 1\n",
      "INFO:src.scheduler:Dosing Chem5: -2.000 ml on B[1]\n",
      "INFO:src.scheduler:Deprimed Chem5 with -2.0ml.\n",
      "INFO:src.scheduler:[DEBUG]: B, 2\n",
      "INFO:src.scheduler:Dosing Chem6: -2.000 ml on B[2]\n",
      "INFO:src.scheduler:Deprimed Chem6 with -2.0ml.\n",
      "INFO:src.scheduler:[DEBUG]: B, 3\n",
      "INFO:src.scheduler:Dosing Chem7: -2.000 ml on B[3]\n",
      "INFO:src.scheduler:Deprimed Chem7 with -2.0ml.\n",
      "INFO:src.scheduler:[DEBUG]: B, 4\n",
      "INFO:src.scheduler:Dosing Chem8: -2.000 ml on B[4]\n",
      "INFO:src.scheduler:Deprimed Chem8 with -2.0ml.\n"
     ]
    }
   ],
   "source": [
    "device.run_basic_experiment(deprime=True)"
   ]
  },
  {
   "cell_type": "code",
   "execution_count": null,
   "id": "cd1d6194",
   "metadata": {},
   "outputs": [],
   "source": []
  }
 ],
 "metadata": {
  "kernelspec": {
   "display_name": ".venv",
   "language": "python",
   "name": "python3"
  },
  "language_info": {
   "codemirror_mode": {
    "name": "ipython",
    "version": 3
   },
   "file_extension": ".py",
   "mimetype": "text/x-python",
   "name": "python",
   "nbconvert_exporter": "python",
   "pygments_lexer": "ipython3",
   "version": "3.10.0"
  }
 },
 "nbformat": 4,
 "nbformat_minor": 5
}
