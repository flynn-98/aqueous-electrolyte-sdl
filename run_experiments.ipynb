{
 "cells": [
  {
   "cell_type": "markdown",
   "id": "dcf6a240",
   "metadata": {},
   "source": [
    "# Electrolyte Optimiser (PumpBot V2)\n",
    "\n",
    "Update experiment details in [yaml file](config/hardware_config.yaml). Then run the below code block **once per session**."
   ]
  },
  {
   "cell_type": "code",
   "execution_count": null,
   "id": "2287e796",
   "metadata": {},
   "outputs": [],
   "source": [
    "%load_ext autoreload\n",
    "%autoreload 2\n",
    "\n",
    "from src.scheduler import scheduler\n",
    "config_path = \"config/hardware_config.yaml\"\n",
    "\n",
    "device = scheduler(config_path)"
   ]
  },
  {
   "cell_type": "markdown",
   "id": "2455664c",
   "metadata": {},
   "source": [
    "## Run the next code block to a single perform experiment."
   ]
  },
  {
   "cell_type": "code",
   "execution_count": null,
   "id": "36cde953",
   "metadata": {},
   "outputs": [],
   "source": [
    "device.run_basic_experiment(deprime=False)"
   ]
  }
 ],
 "metadata": {
  "kernelspec": {
   "display_name": ".venv",
   "language": "python",
   "name": "python3"
  },
  "language_info": {
   "codemirror_mode": {
    "name": "ipython",
    "version": 3
   },
   "file_extension": ".py",
   "mimetype": "text/x-python",
   "name": "python",
   "nbconvert_exporter": "python",
   "pygments_lexer": "ipython3",
   "version": "3.10.0"
  }
 },
 "nbformat": 4,
 "nbformat_minor": 5
}
